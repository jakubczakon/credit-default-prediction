{
 "cells": [
  {
   "cell_type": "code",
   "execution_count": 4,
   "metadata": {},
   "outputs": [],
   "source": [
    "%matplotlib inline\n",
    "\n",
    "from neptune.sessions import Session\n",
    "from neptunecontrib.api.utils import extract_project_progress_info\n",
    "from neptunecontrib.viz.projects import project_progress\n",
    "\n",
    "PROJECT_NAME = 'neptune-ml/credit-default-prediction'\n",
    "PROJECT_METRIC = 'valid_auc'\n",
    "\n",
    "session = Session()\n",
    "project = session.get_project(PROJECT_NAME)\n",
    "leadearboard = project.get_leaderboard()"
   ]
  },
  {
   "cell_type": "markdown",
   "metadata": {},
   "source": [
    "# Project progress"
   ]
  },
  {
   "cell_type": "code",
   "execution_count": 5,
   "metadata": {},
   "outputs": [
    {
     "data": {
      "application/vnd.vegalite.v2+json": {
       "$schema": "https://vega.github.io/schema/vega-lite/v2.6.0.json",
       "config": {
        "view": {
         "height": 300,
         "width": 400
        }
       },
       "data": {
        "name": "data-0abe996d745378ab365a28262978c5ae"
       },
       "datasets": {
        "data-0abe996d745378ab365a28262978c5ae": [
         {
          "actual_or_best": "actual",
          "id": "CRED-54",
          "metric": 0.7717602344405468,
          "owner": "jakub-czakon",
          "resource": "experiment_count_day",
          "running_time": 35,
          "tags": [
           "lgbm",
           "features_v0"
          ],
          "text": "CRED-54 | 0.7718 |  (lgbm , features_v0)",
          "time_or_count": 10,
          "timestamp": "2019-06-07 08:19:30.456000+00:00",
          "timestamp_day": "2019-06-07"
         },
         {
          "actual_or_best": "best",
          "id": "CRED-54",
          "metric": 0.7717602344405468,
          "owner": "jakub-czakon",
          "resource": "experiment_count_day",
          "running_time": 35,
          "tags": [
           "lgbm",
           "features_v0"
          ],
          "text": "CRED-54 | 0.7718 |  (lgbm , features_v0)",
          "time_or_count": 10,
          "timestamp": "2019-06-07 08:19:30.456000+00:00",
          "timestamp_day": "2019-06-07"
         },
         {
          "actual_or_best": "actual",
          "id": "CRED-54",
          "metric": 0.7717602344405468,
          "owner": "jakub-czakon",
          "resource": "running_time_day",
          "running_time": 35,
          "tags": [
           "lgbm",
           "features_v0"
          ],
          "text": "CRED-54 | 0.7718 |  (lgbm , features_v0)",
          "time_or_count": 1.5477777777777777,
          "timestamp": "2019-06-07 08:19:30.456000+00:00",
          "timestamp_day": "2019-06-07"
         },
         {
          "actual_or_best": "best",
          "id": "CRED-54",
          "metric": 0.7717602344405468,
          "owner": "jakub-czakon",
          "resource": "running_time_day",
          "running_time": 35,
          "tags": [
           "lgbm",
           "features_v0"
          ],
          "text": "CRED-54 | 0.7718 |  (lgbm , features_v0)",
          "time_or_count": 1.5477777777777777,
          "timestamp": "2019-06-07 08:19:30.456000+00:00",
          "timestamp_day": "2019-06-07"
         },
         {
          "actual_or_best": "actual",
          "id": "CRED-55",
          "metric": 0.7664101385508926,
          "owner": "jakub-czakon",
          "resource": "experiment_count_day",
          "running_time": 18,
          "tags": [
           "lgbm",
           "features_v0"
          ],
          "text": "CRED-55 | 0.7664 |  (lgbm , features_v0)",
          "time_or_count": 10,
          "timestamp": "2019-06-07 08:20:10.364000+00:00",
          "timestamp_day": "2019-06-07"
         },
         {
          "actual_or_best": "best",
          "id": "CRED-55",
          "metric": 0.7717602344405468,
          "owner": "jakub-czakon",
          "resource": "experiment_count_day",
          "running_time": 18,
          "tags": [
           "lgbm",
           "features_v0"
          ],
          "text": "CRED-55 | 0.7664 |  (lgbm , features_v0)",
          "time_or_count": 10,
          "timestamp": "2019-06-07 08:20:10.364000+00:00",
          "timestamp_day": "2019-06-07"
         },
         {
          "actual_or_best": "actual",
          "id": "CRED-55",
          "metric": 0.7664101385508926,
          "owner": "jakub-czakon",
          "resource": "running_time_day",
          "running_time": 18,
          "tags": [
           "lgbm",
           "features_v0"
          ],
          "text": "CRED-55 | 0.7664 |  (lgbm , features_v0)",
          "time_or_count": 1.5477777777777777,
          "timestamp": "2019-06-07 08:20:10.364000+00:00",
          "timestamp_day": "2019-06-07"
         },
         {
          "actual_or_best": "best",
          "id": "CRED-55",
          "metric": 0.7717602344405468,
          "owner": "jakub-czakon",
          "resource": "running_time_day",
          "running_time": 18,
          "tags": [
           "lgbm",
           "features_v0"
          ],
          "text": "CRED-55 | 0.7664 |  (lgbm , features_v0)",
          "time_or_count": 1.5477777777777777,
          "timestamp": "2019-06-07 08:20:10.364000+00:00",
          "timestamp_day": "2019-06-07"
         },
         {
          "actual_or_best": "actual",
          "id": "CRED-56",
          "metric": 0.7673775478200919,
          "owner": "jakub-czakon",
          "resource": "experiment_count_day",
          "running_time": 15,
          "tags": [
           "lgbm",
           "features_v0"
          ],
          "text": "CRED-56 | 0.7674 |  (lgbm , features_v0)",
          "time_or_count": 10,
          "timestamp": "2019-06-07 08:20:33.152000+00:00",
          "timestamp_day": "2019-06-07"
         },
         {
          "actual_or_best": "best",
          "id": "CRED-56",
          "metric": 0.7717602344405468,
          "owner": "jakub-czakon",
          "resource": "experiment_count_day",
          "running_time": 15,
          "tags": [
           "lgbm",
           "features_v0"
          ],
          "text": "CRED-56 | 0.7674 |  (lgbm , features_v0)",
          "time_or_count": 10,
          "timestamp": "2019-06-07 08:20:33.152000+00:00",
          "timestamp_day": "2019-06-07"
         },
         {
          "actual_or_best": "actual",
          "id": "CRED-56",
          "metric": 0.7673775478200919,
          "owner": "jakub-czakon",
          "resource": "running_time_day",
          "running_time": 15,
          "tags": [
           "lgbm",
           "features_v0"
          ],
          "text": "CRED-56 | 0.7674 |  (lgbm , features_v0)",
          "time_or_count": 1.5477777777777777,
          "timestamp": "2019-06-07 08:20:33.152000+00:00",
          "timestamp_day": "2019-06-07"
         },
         {
          "actual_or_best": "best",
          "id": "CRED-56",
          "metric": 0.7717602344405468,
          "owner": "jakub-czakon",
          "resource": "running_time_day",
          "running_time": 15,
          "tags": [
           "lgbm",
           "features_v0"
          ],
          "text": "CRED-56 | 0.7674 |  (lgbm , features_v0)",
          "time_or_count": 1.5477777777777777,
          "timestamp": "2019-06-07 08:20:33.152000+00:00",
          "timestamp_day": "2019-06-07"
         },
         {
          "actual_or_best": "actual",
          "id": "CRED-57",
          "metric": 0.7686810235650458,
          "owner": "jakub-czakon",
          "resource": "experiment_count_day",
          "running_time": 17,
          "tags": [
           "lgbm",
           "features_v0"
          ],
          "text": "CRED-57 | 0.7687 |  (lgbm , features_v0)",
          "time_or_count": 10,
          "timestamp": "2019-06-07 08:20:59.471000+00:00",
          "timestamp_day": "2019-06-07"
         },
         {
          "actual_or_best": "best",
          "id": "CRED-57",
          "metric": 0.7717602344405468,
          "owner": "jakub-czakon",
          "resource": "experiment_count_day",
          "running_time": 17,
          "tags": [
           "lgbm",
           "features_v0"
          ],
          "text": "CRED-57 | 0.7687 |  (lgbm , features_v0)",
          "time_or_count": 10,
          "timestamp": "2019-06-07 08:20:59.471000+00:00",
          "timestamp_day": "2019-06-07"
         },
         {
          "actual_or_best": "actual",
          "id": "CRED-57",
          "metric": 0.7686810235650458,
          "owner": "jakub-czakon",
          "resource": "running_time_day",
          "running_time": 17,
          "tags": [
           "lgbm",
           "features_v0"
          ],
          "text": "CRED-57 | 0.7687 |  (lgbm , features_v0)",
          "time_or_count": 1.5477777777777777,
          "timestamp": "2019-06-07 08:20:59.471000+00:00",
          "timestamp_day": "2019-06-07"
         },
         {
          "actual_or_best": "best",
          "id": "CRED-57",
          "metric": 0.7717602344405468,
          "owner": "jakub-czakon",
          "resource": "running_time_day",
          "running_time": 17,
          "tags": [
           "lgbm",
           "features_v0"
          ],
          "text": "CRED-57 | 0.7687 |  (lgbm , features_v0)",
          "time_or_count": 1.5477777777777777,
          "timestamp": "2019-06-07 08:20:59.471000+00:00",
          "timestamp_day": "2019-06-07"
         },
         {
          "actual_or_best": "actual",
          "id": "CRED-63",
          "metric": 0.6364356435643563,
          "owner": "jakub-czakon",
          "resource": "experiment_count_day",
          "running_time": 139,
          "tags": [
           "hpo",
           "lgbm",
           "features_v0"
          ],
          "text": "CRED-63 | 0.6364 |  (hpo , lgbm , features_v0)",
          "time_or_count": 10,
          "timestamp": "2019-06-07 13:18:15.401000+00:00",
          "timestamp_day": "2019-06-07"
         },
         {
          "actual_or_best": "best",
          "id": "CRED-63",
          "metric": 0.7717602344405468,
          "owner": "jakub-czakon",
          "resource": "experiment_count_day",
          "running_time": 139,
          "tags": [
           "hpo",
           "lgbm",
           "features_v0"
          ],
          "text": "CRED-63 | 0.6364 |  (hpo , lgbm , features_v0)",
          "time_or_count": 10,
          "timestamp": "2019-06-07 13:18:15.401000+00:00",
          "timestamp_day": "2019-06-07"
         },
         {
          "actual_or_best": "actual",
          "id": "CRED-63",
          "metric": 0.6364356435643563,
          "owner": "jakub-czakon",
          "resource": "running_time_day",
          "running_time": 139,
          "tags": [
           "hpo",
           "lgbm",
           "features_v0"
          ],
          "text": "CRED-63 | 0.6364 |  (hpo , lgbm , features_v0)",
          "time_or_count": 1.5477777777777777,
          "timestamp": "2019-06-07 13:18:15.401000+00:00",
          "timestamp_day": "2019-06-07"
         },
         {
          "actual_or_best": "best",
          "id": "CRED-63",
          "metric": 0.7717602344405468,
          "owner": "jakub-czakon",
          "resource": "running_time_day",
          "running_time": 139,
          "tags": [
           "hpo",
           "lgbm",
           "features_v0"
          ],
          "text": "CRED-63 | 0.6364 |  (hpo , lgbm , features_v0)",
          "time_or_count": 1.5477777777777777,
          "timestamp": "2019-06-07 13:18:15.401000+00:00",
          "timestamp_day": "2019-06-07"
         },
         {
          "actual_or_best": "actual",
          "id": "CRED-70",
          "metric": 0.7677815890907906,
          "owner": "jakub-czakon",
          "resource": "experiment_count_day",
          "running_time": 157,
          "tags": [
           "lgbm",
           "features_v1"
          ],
          "text": "CRED-70 | 0.7678 |  (lgbm , features_v1)",
          "time_or_count": 10,
          "timestamp": "2019-06-07 13:59:50.349000+00:00",
          "timestamp_day": "2019-06-07"
         },
         {
          "actual_or_best": "best",
          "id": "CRED-70",
          "metric": 0.7717602344405468,
          "owner": "jakub-czakon",
          "resource": "experiment_count_day",
          "running_time": 157,
          "tags": [
           "lgbm",
           "features_v1"
          ],
          "text": "CRED-70 | 0.7678 |  (lgbm , features_v1)",
          "time_or_count": 10,
          "timestamp": "2019-06-07 13:59:50.349000+00:00",
          "timestamp_day": "2019-06-07"
         },
         {
          "actual_or_best": "actual",
          "id": "CRED-70",
          "metric": 0.7677815890907906,
          "owner": "jakub-czakon",
          "resource": "running_time_day",
          "running_time": 157,
          "tags": [
           "lgbm",
           "features_v1"
          ],
          "text": "CRED-70 | 0.7678 |  (lgbm , features_v1)",
          "time_or_count": 1.5477777777777777,
          "timestamp": "2019-06-07 13:59:50.349000+00:00",
          "timestamp_day": "2019-06-07"
         },
         {
          "actual_or_best": "best",
          "id": "CRED-70",
          "metric": 0.7717602344405468,
          "owner": "jakub-czakon",
          "resource": "running_time_day",
          "running_time": 157,
          "tags": [
           "lgbm",
           "features_v1"
          ],
          "text": "CRED-70 | 0.7678 |  (lgbm , features_v1)",
          "time_or_count": 1.5477777777777777,
          "timestamp": "2019-06-07 13:59:50.349000+00:00",
          "timestamp_day": "2019-06-07"
         },
         {
          "actual_or_best": "actual",
          "id": "CRED-69",
          "metric": 0.7742661295230437,
          "owner": "jakub-czakon",
          "resource": "experiment_count_day",
          "running_time": 1485,
          "tags": [
           "hpo",
           "lgbm",
           "features_v0"
          ],
          "text": "CRED-69 | 0.7743 |  (hpo , lgbm , features_v0)",
          "time_or_count": 10,
          "timestamp": "2019-06-07 14:20:15.455000+00:00",
          "timestamp_day": "2019-06-07"
         },
         {
          "actual_or_best": "best",
          "id": "CRED-69",
          "metric": 0.7742661295230437,
          "owner": "jakub-czakon",
          "resource": "experiment_count_day",
          "running_time": 1485,
          "tags": [
           "hpo",
           "lgbm",
           "features_v0"
          ],
          "text": "CRED-69 | 0.7743 |  (hpo , lgbm , features_v0)",
          "time_or_count": 10,
          "timestamp": "2019-06-07 14:20:15.455000+00:00",
          "timestamp_day": "2019-06-07"
         },
         {
          "actual_or_best": "actual",
          "id": "CRED-69",
          "metric": 0.7742661295230437,
          "owner": "jakub-czakon",
          "resource": "running_time_day",
          "running_time": 1485,
          "tags": [
           "hpo",
           "lgbm",
           "features_v0"
          ],
          "text": "CRED-69 | 0.7743 |  (hpo , lgbm , features_v0)",
          "time_or_count": 1.5477777777777777,
          "timestamp": "2019-06-07 14:20:15.455000+00:00",
          "timestamp_day": "2019-06-07"
         },
         {
          "actual_or_best": "best",
          "id": "CRED-69",
          "metric": 0.7742661295230437,
          "owner": "jakub-czakon",
          "resource": "running_time_day",
          "running_time": 1485,
          "tags": [
           "hpo",
           "lgbm",
           "features_v0"
          ],
          "text": "CRED-69 | 0.7743 |  (hpo , lgbm , features_v0)",
          "time_or_count": 1.5477777777777777,
          "timestamp": "2019-06-07 14:20:15.455000+00:00",
          "timestamp_day": "2019-06-07"
         },
         {
          "actual_or_best": "actual",
          "id": "CRED-80",
          "metric": 0.7754309010383021,
          "owner": "jakub-czakon",
          "resource": "experiment_count_day",
          "running_time": 61,
          "tags": [
           "lgbm",
           "features_v1"
          ],
          "text": "CRED-80 | 0.7754 |  (lgbm , features_v1)",
          "time_or_count": 10,
          "timestamp": "2019-06-07 14:56:32.957000+00:00",
          "timestamp_day": "2019-06-07"
         },
         {
          "actual_or_best": "best",
          "id": "CRED-80",
          "metric": 0.7754309010383021,
          "owner": "jakub-czakon",
          "resource": "experiment_count_day",
          "running_time": 61,
          "tags": [
           "lgbm",
           "features_v1"
          ],
          "text": "CRED-80 | 0.7754 |  (lgbm , features_v1)",
          "time_or_count": 10,
          "timestamp": "2019-06-07 14:56:32.957000+00:00",
          "timestamp_day": "2019-06-07"
         },
         {
          "actual_or_best": "actual",
          "id": "CRED-80",
          "metric": 0.7754309010383021,
          "owner": "jakub-czakon",
          "resource": "running_time_day",
          "running_time": 61,
          "tags": [
           "lgbm",
           "features_v1"
          ],
          "text": "CRED-80 | 0.7754 |  (lgbm , features_v1)",
          "time_or_count": 1.5477777777777777,
          "timestamp": "2019-06-07 14:56:32.957000+00:00",
          "timestamp_day": "2019-06-07"
         },
         {
          "actual_or_best": "best",
          "id": "CRED-80",
          "metric": 0.7754309010383021,
          "owner": "jakub-czakon",
          "resource": "running_time_day",
          "running_time": 61,
          "tags": [
           "lgbm",
           "features_v1"
          ],
          "text": "CRED-80 | 0.7754 |  (lgbm , features_v1)",
          "time_or_count": 1.5477777777777777,
          "timestamp": "2019-06-07 14:56:32.957000+00:00",
          "timestamp_day": "2019-06-07"
         },
         {
          "actual_or_best": "actual",
          "id": "CRED-81",
          "metric": 0.7742661295230437,
          "owner": "jakub-czakon",
          "resource": "experiment_count_day",
          "running_time": 69,
          "tags": [
           "lgbm",
           "features_v0"
          ],
          "text": "CRED-81 | 0.7743 |  (lgbm , features_v0)",
          "time_or_count": 10,
          "timestamp": "2019-06-07 14:56:50.252000+00:00",
          "timestamp_day": "2019-06-07"
         },
         {
          "actual_or_best": "best",
          "id": "CRED-81",
          "metric": 0.7754309010383021,
          "owner": "jakub-czakon",
          "resource": "experiment_count_day",
          "running_time": 69,
          "tags": [
           "lgbm",
           "features_v0"
          ],
          "text": "CRED-81 | 0.7743 |  (lgbm , features_v0)",
          "time_or_count": 10,
          "timestamp": "2019-06-07 14:56:50.252000+00:00",
          "timestamp_day": "2019-06-07"
         },
         {
          "actual_or_best": "actual",
          "id": "CRED-81",
          "metric": 0.7742661295230437,
          "owner": "jakub-czakon",
          "resource": "running_time_day",
          "running_time": 69,
          "tags": [
           "lgbm",
           "features_v0"
          ],
          "text": "CRED-81 | 0.7743 |  (lgbm , features_v0)",
          "time_or_count": 1.5477777777777777,
          "timestamp": "2019-06-07 14:56:50.252000+00:00",
          "timestamp_day": "2019-06-07"
         },
         {
          "actual_or_best": "best",
          "id": "CRED-81",
          "metric": 0.7754309010383021,
          "owner": "jakub-czakon",
          "resource": "running_time_day",
          "running_time": 69,
          "tags": [
           "lgbm",
           "features_v0"
          ],
          "text": "CRED-81 | 0.7743 |  (lgbm , features_v0)",
          "time_or_count": 1.5477777777777777,
          "timestamp": "2019-06-07 14:56:50.252000+00:00",
          "timestamp_day": "2019-06-07"
         },
         {
          "actual_or_best": "actual",
          "id": "CRED-82",
          "metric": 0.7746123680915656,
          "owner": "jakub-czakon",
          "resource": "experiment_count_day",
          "running_time": 3576,
          "tags": [
           "hpo",
           "lgbm",
           "features_v1"
          ],
          "text": "CRED-82 | 0.7746 |  (hpo , lgbm , features_v1)",
          "time_or_count": 10,
          "timestamp": "2019-06-07 15:58:17.784000+00:00",
          "timestamp_day": "2019-06-07"
         },
         {
          "actual_or_best": "best",
          "id": "CRED-82",
          "metric": 0.7754309010383021,
          "owner": "jakub-czakon",
          "resource": "experiment_count_day",
          "running_time": 3576,
          "tags": [
           "hpo",
           "lgbm",
           "features_v1"
          ],
          "text": "CRED-82 | 0.7746 |  (hpo , lgbm , features_v1)",
          "time_or_count": 10,
          "timestamp": "2019-06-07 15:58:17.784000+00:00",
          "timestamp_day": "2019-06-07"
         },
         {
          "actual_or_best": "actual",
          "id": "CRED-82",
          "metric": 0.7746123680915656,
          "owner": "jakub-czakon",
          "resource": "running_time_day",
          "running_time": 3576,
          "tags": [
           "hpo",
           "lgbm",
           "features_v1"
          ],
          "text": "CRED-82 | 0.7746 |  (hpo , lgbm , features_v1)",
          "time_or_count": 1.5477777777777777,
          "timestamp": "2019-06-07 15:58:17.784000+00:00",
          "timestamp_day": "2019-06-07"
         },
         {
          "actual_or_best": "best",
          "id": "CRED-82",
          "metric": 0.7754309010383021,
          "owner": "jakub-czakon",
          "resource": "running_time_day",
          "running_time": 3576,
          "tags": [
           "hpo",
           "lgbm",
           "features_v1"
          ],
          "text": "CRED-82 | 0.7746 |  (hpo , lgbm , features_v1)",
          "time_or_count": 1.5477777777777777,
          "timestamp": "2019-06-07 15:58:17.784000+00:00",
          "timestamp_day": "2019-06-07"
         },
         {
          "actual_or_best": "actual",
          "id": "CRED-83",
          "metric": 0.7754885248848028,
          "owner": "jakub-czakon",
          "resource": "experiment_count_day",
          "running_time": 50,
          "tags": [
           "lgbm",
           "features_v1"
          ],
          "text": "CRED-83 | 0.7755 |  (lgbm , features_v1)",
          "time_or_count": 7,
          "timestamp": "2019-06-10 10:55:19.056000+00:00",
          "timestamp_day": "2019-06-10"
         },
         {
          "actual_or_best": "best",
          "id": "CRED-83",
          "metric": 0.7754885248848028,
          "owner": "jakub-czakon",
          "resource": "experiment_count_day",
          "running_time": 50,
          "tags": [
           "lgbm",
           "features_v1"
          ],
          "text": "CRED-83 | 0.7755 |  (lgbm , features_v1)",
          "time_or_count": 7,
          "timestamp": "2019-06-10 10:55:19.056000+00:00",
          "timestamp_day": "2019-06-10"
         },
         {
          "actual_or_best": "actual",
          "id": "CRED-83",
          "metric": 0.7754885248848028,
          "owner": "jakub-czakon",
          "resource": "running_time_day",
          "running_time": 50,
          "tags": [
           "lgbm",
           "features_v1"
          ],
          "text": "CRED-83 | 0.7755 |  (lgbm , features_v1)",
          "time_or_count": 1.0533333333333332,
          "timestamp": "2019-06-10 10:55:19.056000+00:00",
          "timestamp_day": "2019-06-10"
         },
         {
          "actual_or_best": "best",
          "id": "CRED-83",
          "metric": 0.7754885248848028,
          "owner": "jakub-czakon",
          "resource": "running_time_day",
          "running_time": 50,
          "tags": [
           "lgbm",
           "features_v1"
          ],
          "text": "CRED-83 | 0.7755 |  (lgbm , features_v1)",
          "time_or_count": 1.0533333333333332,
          "timestamp": "2019-06-10 10:55:19.056000+00:00",
          "timestamp_day": "2019-06-10"
         },
         {
          "actual_or_best": "actual",
          "id": "CRED-84",
          "metric": 0.775186551657879,
          "owner": "jakub-czakon",
          "resource": "experiment_count_day",
          "running_time": 3562,
          "tags": [
           "hpo",
           "lgbm",
           "features_v1"
          ],
          "text": "CRED-84 | 0.7752 |  (hpo , lgbm , features_v1)",
          "time_or_count": 7,
          "timestamp": "2019-06-10 11:55:15.532000+00:00",
          "timestamp_day": "2019-06-10"
         },
         {
          "actual_or_best": "best",
          "id": "CRED-84",
          "metric": 0.7754885248848028,
          "owner": "jakub-czakon",
          "resource": "experiment_count_day",
          "running_time": 3562,
          "tags": [
           "hpo",
           "lgbm",
           "features_v1"
          ],
          "text": "CRED-84 | 0.7752 |  (hpo , lgbm , features_v1)",
          "time_or_count": 7,
          "timestamp": "2019-06-10 11:55:15.532000+00:00",
          "timestamp_day": "2019-06-10"
         },
         {
          "actual_or_best": "actual",
          "id": "CRED-84",
          "metric": 0.775186551657879,
          "owner": "jakub-czakon",
          "resource": "running_time_day",
          "running_time": 3562,
          "tags": [
           "hpo",
           "lgbm",
           "features_v1"
          ],
          "text": "CRED-84 | 0.7752 |  (hpo , lgbm , features_v1)",
          "time_or_count": 1.0533333333333332,
          "timestamp": "2019-06-10 11:55:15.532000+00:00",
          "timestamp_day": "2019-06-10"
         },
         {
          "actual_or_best": "best",
          "id": "CRED-84",
          "metric": 0.7754885248848028,
          "owner": "jakub-czakon",
          "resource": "running_time_day",
          "running_time": 3562,
          "tags": [
           "hpo",
           "lgbm",
           "features_v1"
          ],
          "text": "CRED-84 | 0.7752 |  (hpo , lgbm , features_v1)",
          "time_or_count": 1.0533333333333332,
          "timestamp": "2019-06-10 11:55:15.532000+00:00",
          "timestamp_day": "2019-06-10"
         },
         {
          "actual_or_best": "actual",
          "id": "CRED-85",
          "metric": 0.775186551657879,
          "owner": "jakub-czakon",
          "resource": "experiment_count_day",
          "running_time": 44,
          "tags": [
           "lgbm",
           "features_v1"
          ],
          "text": "CRED-85 | 0.7752 |  (lgbm , features_v1)",
          "time_or_count": 7,
          "timestamp": "2019-06-10 12:16:59.185000+00:00",
          "timestamp_day": "2019-06-10"
         },
         {
          "actual_or_best": "best",
          "id": "CRED-85",
          "metric": 0.7754885248848028,
          "owner": "jakub-czakon",
          "resource": "experiment_count_day",
          "running_time": 44,
          "tags": [
           "lgbm",
           "features_v1"
          ],
          "text": "CRED-85 | 0.7752 |  (lgbm , features_v1)",
          "time_or_count": 7,
          "timestamp": "2019-06-10 12:16:59.185000+00:00",
          "timestamp_day": "2019-06-10"
         },
         {
          "actual_or_best": "actual",
          "id": "CRED-85",
          "metric": 0.775186551657879,
          "owner": "jakub-czakon",
          "resource": "running_time_day",
          "running_time": 44,
          "tags": [
           "lgbm",
           "features_v1"
          ],
          "text": "CRED-85 | 0.7752 |  (lgbm , features_v1)",
          "time_or_count": 1.0533333333333332,
          "timestamp": "2019-06-10 12:16:59.185000+00:00",
          "timestamp_day": "2019-06-10"
         },
         {
          "actual_or_best": "best",
          "id": "CRED-85",
          "metric": 0.7754885248848028,
          "owner": "jakub-czakon",
          "resource": "running_time_day",
          "running_time": 44,
          "tags": [
           "lgbm",
           "features_v1"
          ],
          "text": "CRED-85 | 0.7752 |  (lgbm , features_v1)",
          "time_or_count": 1.0533333333333332,
          "timestamp": "2019-06-10 12:16:59.185000+00:00",
          "timestamp_day": "2019-06-10"
         },
         {
          "actual_or_best": "actual",
          "id": "CRED-89",
          "metric": 0.7727044634908342,
          "owner": "kamil",
          "resource": "experiment_count_day",
          "running_time": 18,
          "tags": [
           "lgbm"
          ],
          "text": "CRED-89 | 0.7727 |  (lgbm)",
          "time_or_count": 7,
          "timestamp": "2019-06-10 15:18:33.732000+00:00",
          "timestamp_day": "2019-06-10"
         },
         {
          "actual_or_best": "best",
          "id": "CRED-89",
          "metric": 0.7754885248848028,
          "owner": "kamil",
          "resource": "experiment_count_day",
          "running_time": 18,
          "tags": [
           "lgbm"
          ],
          "text": "CRED-89 | 0.7727 |  (lgbm)",
          "time_or_count": 7,
          "timestamp": "2019-06-10 15:18:33.732000+00:00",
          "timestamp_day": "2019-06-10"
         },
         {
          "actual_or_best": "actual",
          "id": "CRED-89",
          "metric": 0.7727044634908342,
          "owner": "kamil",
          "resource": "running_time_day",
          "running_time": 18,
          "tags": [
           "lgbm"
          ],
          "text": "CRED-89 | 0.7727 |  (lgbm)",
          "time_or_count": 1.0533333333333332,
          "timestamp": "2019-06-10 15:18:33.732000+00:00",
          "timestamp_day": "2019-06-10"
         },
         {
          "actual_or_best": "best",
          "id": "CRED-89",
          "metric": 0.7754885248848028,
          "owner": "kamil",
          "resource": "running_time_day",
          "running_time": 18,
          "tags": [
           "lgbm"
          ],
          "text": "CRED-89 | 0.7727 |  (lgbm)",
          "time_or_count": 1.0533333333333332,
          "timestamp": "2019-06-10 15:18:33.732000+00:00",
          "timestamp_day": "2019-06-10"
         },
         {
          "actual_or_best": "actual",
          "id": "CRED-91",
          "metric": 0.7672538421557562,
          "owner": "kamil",
          "resource": "experiment_count_day",
          "running_time": 16,
          "tags": [
           "lgbm"
          ],
          "text": "CRED-91 | 0.7673 |  (lgbm)",
          "time_or_count": 7,
          "timestamp": "2019-06-10 15:19:57.904000+00:00",
          "timestamp_day": "2019-06-10"
         },
         {
          "actual_or_best": "best",
          "id": "CRED-91",
          "metric": 0.7754885248848028,
          "owner": "kamil",
          "resource": "experiment_count_day",
          "running_time": 16,
          "tags": [
           "lgbm"
          ],
          "text": "CRED-91 | 0.7673 |  (lgbm)",
          "time_or_count": 7,
          "timestamp": "2019-06-10 15:19:57.904000+00:00",
          "timestamp_day": "2019-06-10"
         },
         {
          "actual_or_best": "actual",
          "id": "CRED-91",
          "metric": 0.7672538421557562,
          "owner": "kamil",
          "resource": "running_time_day",
          "running_time": 16,
          "tags": [
           "lgbm"
          ],
          "text": "CRED-91 | 0.7673 |  (lgbm)",
          "time_or_count": 1.0533333333333332,
          "timestamp": "2019-06-10 15:19:57.904000+00:00",
          "timestamp_day": "2019-06-10"
         },
         {
          "actual_or_best": "best",
          "id": "CRED-91",
          "metric": 0.7754885248848028,
          "owner": "kamil",
          "resource": "running_time_day",
          "running_time": 16,
          "tags": [
           "lgbm"
          ],
          "text": "CRED-91 | 0.7673 |  (lgbm)",
          "time_or_count": 1.0533333333333332,
          "timestamp": "2019-06-10 15:19:57.904000+00:00",
          "timestamp_day": "2019-06-10"
         },
         {
          "actual_or_best": "actual",
          "id": "CRED-92",
          "metric": 0.7656466666249229,
          "owner": "kamil",
          "resource": "experiment_count_day",
          "running_time": 17,
          "tags": [
           "lgbm"
          ],
          "text": "CRED-92 | 0.7656 |  (lgbm)",
          "time_or_count": 7,
          "timestamp": "2019-06-10 15:21:02.560000+00:00",
          "timestamp_day": "2019-06-10"
         },
         {
          "actual_or_best": "best",
          "id": "CRED-92",
          "metric": 0.7754885248848028,
          "owner": "kamil",
          "resource": "experiment_count_day",
          "running_time": 17,
          "tags": [
           "lgbm"
          ],
          "text": "CRED-92 | 0.7656 |  (lgbm)",
          "time_or_count": 7,
          "timestamp": "2019-06-10 15:21:02.560000+00:00",
          "timestamp_day": "2019-06-10"
         },
         {
          "actual_or_best": "actual",
          "id": "CRED-92",
          "metric": 0.7656466666249229,
          "owner": "kamil",
          "resource": "running_time_day",
          "running_time": 17,
          "tags": [
           "lgbm"
          ],
          "text": "CRED-92 | 0.7656 |  (lgbm)",
          "time_or_count": 1.0533333333333332,
          "timestamp": "2019-06-10 15:21:02.560000+00:00",
          "timestamp_day": "2019-06-10"
         },
         {
          "actual_or_best": "best",
          "id": "CRED-92",
          "metric": 0.7754885248848028,
          "owner": "kamil",
          "resource": "running_time_day",
          "running_time": 17,
          "tags": [
           "lgbm"
          ],
          "text": "CRED-92 | 0.7656 |  (lgbm)",
          "time_or_count": 1.0533333333333332,
          "timestamp": "2019-06-10 15:21:02.560000+00:00",
          "timestamp_day": "2019-06-10"
         },
         {
          "actual_or_best": "actual",
          "id": "CRED-93",
          "metric": 0.7735357898391164,
          "owner": "kamil",
          "resource": "experiment_count_day",
          "running_time": 85,
          "tags": [
           "lgbm"
          ],
          "text": "CRED-93 | 0.7735 |  (lgbm)",
          "time_or_count": 7,
          "timestamp": "2019-06-10 15:22:24.969000+00:00",
          "timestamp_day": "2019-06-10"
         },
         {
          "actual_or_best": "best",
          "id": "CRED-93",
          "metric": 0.7754885248848028,
          "owner": "kamil",
          "resource": "experiment_count_day",
          "running_time": 85,
          "tags": [
           "lgbm"
          ],
          "text": "CRED-93 | 0.7735 |  (lgbm)",
          "time_or_count": 7,
          "timestamp": "2019-06-10 15:22:24.969000+00:00",
          "timestamp_day": "2019-06-10"
         },
         {
          "actual_or_best": "actual",
          "id": "CRED-93",
          "metric": 0.7735357898391164,
          "owner": "kamil",
          "resource": "running_time_day",
          "running_time": 85,
          "tags": [
           "lgbm"
          ],
          "text": "CRED-93 | 0.7735 |  (lgbm)",
          "time_or_count": 1.0533333333333332,
          "timestamp": "2019-06-10 15:22:24.969000+00:00",
          "timestamp_day": "2019-06-10"
         },
         {
          "actual_or_best": "best",
          "id": "CRED-93",
          "metric": 0.7754885248848028,
          "owner": "kamil",
          "resource": "running_time_day",
          "running_time": 85,
          "tags": [
           "lgbm"
          ],
          "text": "CRED-93 | 0.7735 |  (lgbm)",
          "time_or_count": 1.0533333333333332,
          "timestamp": "2019-06-10 15:22:24.969000+00:00",
          "timestamp_day": "2019-06-10"
         }
        ]
       },
       "vconcat": [
        {
         "encoding": {
          "color": {
           "field": "actual_or_best",
           "legend": {
            "title": "Metric actual or current best"
           },
           "type": "nominal"
          },
          "x": {
           "field": "timestamp",
           "type": "temporal"
          },
          "y": {
           "axis": null,
           "field": "metric",
           "scale": {
            "zero": false
           },
           "type": "quantitative"
          }
         },
         "height": 50,
         "mark": {
          "interpolate": "step-after",
          "size": 5,
          "type": "line"
         },
         "selection": {
          "selector004": {
           "encodings": [
            "x"
           ],
           "mark": {
            "fill": "#333",
            "fillOpacity": 0.125,
            "stroke": "white"
           },
           "on": "[mousedown, window:mouseup] > window:mousemove!",
           "resolve": "global",
           "translate": "[mousedown, window:mouseup] > window:mousemove!",
           "type": "interval",
           "zoom": "wheel!"
          }
         },
         "width": 600
        },
        {
         "encoding": {
          "text": {
           "condition": {
            "field": "text",
            "selection": "selector003",
            "type": "nominal"
           },
           "value": " "
          },
          "x": {
           "axis": null,
           "field": "timestamp",
           "type": "temporal"
          }
         },
         "height": 1,
         "mark": {
          "align": "left",
          "fontWeight": "bold",
          "size": 15,
          "type": "text"
         },
         "width": 1
        },
        {
         "height": 300,
         "layer": [
          {
           "height": 300,
           "layer": [
            {
             "encoding": {
              "color": {
               "value": "red"
              },
              "opacity": {
               "value": 0.3
              },
              "x": {
               "field": "timestamp",
               "type": "temporal"
              },
              "y": {
               "field": "time_or_count",
               "scale": {
                "zero": false
               },
               "type": "quantitative"
              }
             },
             "mark": {
              "interpolate": "step-after",
              "type": "area"
             },
             "transform": [
              {
               "filter": {
                "selection": "selector004"
               }
              },
              {
               "filter": {
                "selection": "select"
               }
              }
             ]
            },
            {
             "encoding": {
              "color": {
               "value": "black"
              },
              "opacity": {
               "condition": {
                "selection": "selector003",
                "value": 1
               },
               "value": 0
              },
              "x": {
               "field": "timestamp",
               "type": "temporal"
              },
              "y": {
               "field": "time_or_count",
               "scale": {
                "zero": false
               },
               "type": "quantitative"
              }
             },
             "mark": {
              "filled": true,
              "type": "point"
             },
             "transform": [
              {
               "filter": {
                "selection": "selector004"
               }
              },
              {
               "filter": {
                "selection": "select"
               }
              }
             ]
            },
            {
             "encoding": {
              "x": {
               "field": "timestamp",
               "type": "temporal"
              }
             },
             "mark": {
              "color": "gray",
              "type": "rule"
             },
             "transform": [
              {
               "filter": {
                "selection": "selector003"
               }
              }
             ]
            },
            {
             "encoding": {
              "color": {
               "value": "black"
              },
              "opacity": {
               "value": 0.3
              },
              "text": {
               "condition": {
                "field": "time_or_count",
                "selection": "selector003",
                "type": "quantitative"
               },
               "value": " "
              },
              "x": {
               "field": "timestamp",
               "type": "temporal"
              },
              "y": {
               "field": "time_or_count",
               "scale": {
                "zero": false
               },
               "type": "quantitative"
              }
             },
             "mark": {
              "align": "left",
              "dx": 5,
              "dy": -5,
              "fontWeight": "bold",
              "size": 15,
              "type": "text"
             },
             "transform": [
              {
               "filter": {
                "selection": "selector004"
               }
              },
              {
               "filter": {
                "selection": "select"
               }
              }
             ]
            },
            {
             "encoding": {
              "opacity": {
               "value": 0
              },
              "x": {
               "field": "timestamp",
               "type": "temporal"
              }
             },
             "mark": "area",
             "selection": {
              "select": {
               "bind": {
                "input": "select",
                "options": [
                 "running_time_day",
                 "experiment_count_day"
                ]
               },
               "empty": "all",
               "fields": [
                "resource"
               ],
               "on": "click",
               "resolve": "global",
               "type": "single"
              }
             },
             "transform": [
              {
               "filter": {
                "selection": "select"
               }
              },
              {
               "filter": {
                "selection": "selector004"
               }
              }
             ]
            }
           ],
           "width": 600
          },
          {
           "height": 300,
           "layer": [
            {
             "encoding": {
              "color": {
               "field": "actual_or_best",
               "legend": {
                "title": "Metric actual or current best"
               },
               "type": "nominal"
              },
              "x": {
               "field": "timestamp",
               "type": "temporal"
              },
              "y": {
               "field": "metric",
               "scale": {
                "zero": false
               },
               "type": "quantitative"
              }
             },
             "mark": {
              "interpolate": "step-after",
              "size": 5,
              "type": "line"
             },
             "transform": [
              {
               "filter": {
                "selection": "selector004"
               }
              }
             ]
            },
            {
             "encoding": {
              "color": {
               "field": "actual_or_best",
               "legend": {
                "title": "Metric actual or current best"
               },
               "type": "nominal"
              },
              "opacity": {
               "condition": {
                "selection": "selector003",
                "value": 1
               },
               "value": 0
              },
              "x": {
               "field": "timestamp",
               "type": "temporal"
              },
              "y": {
               "field": "metric",
               "scale": {
                "zero": false
               },
               "type": "quantitative"
              }
             },
             "mark": "point",
             "transform": [
              {
               "filter": {
                "selection": "selector004"
               }
              }
             ]
            },
            {
             "encoding": {
              "color": {
               "field": "actual_or_best",
               "type": "nominal"
              },
              "text": {
               "condition": {
                "field": "metric",
                "selection": "selector003",
                "type": "quantitative"
               },
               "value": " "
              },
              "x": {
               "field": "timestamp",
               "type": "temporal"
              },
              "y": {
               "field": "metric",
               "scale": {
                "zero": false
               },
               "type": "quantitative"
              }
             },
             "mark": {
              "align": "left",
              "dx": 5,
              "dy": -5,
              "size": 15,
              "type": "text"
             },
             "transform": [
              {
               "filter": {
                "selection": "selector004"
               }
              }
             ]
            },
            {
             "encoding": {
              "x": {
               "field": "timestamp",
               "type": "temporal"
              }
             },
             "mark": {
              "color": "gray",
              "type": "rule"
             },
             "transform": [
              {
               "filter": {
                "selection": "selector003"
               }
              }
             ]
            },
            {
             "encoding": {
              "opacity": {
               "value": 0
              },
              "x": {
               "field": "timestamp",
               "type": "temporal"
              }
             },
             "mark": "point",
             "selection": {
              "selector003": {
               "empty": "none",
               "fields": [
                "timestamp"
               ],
               "nearest": true,
               "on": "mouseover",
               "resolve": "global",
               "type": "single"
              }
             },
             "transform": [
              {
               "filter": {
                "selection": "selector004"
               }
              }
             ]
            }
           ],
           "width": 600
          }
         ],
         "resolve": {
          "scale": {
           "color": "shared",
           "x": "shared",
           "y": "independent"
          }
         },
         "width": 600
        }
       ]
      },
      "image/png": "[encoded data removed]",
      "text/plain": [
       "<VegaLite 2 object>\n",
       "\n",
       "If you see this message, it means the renderer has not been properly enabled\n",
       "for the frontend that you are using. For more information, see\n",
       "https://altair-viz.github.io/user_guide/troubleshooting.html\n"
      ]
     },
     "execution_count": 5,
     "metadata": {},
     "output_type": "execute_result"
    }
   ],
   "source": [
    "progress_df = extract_project_progress_info(leadearboard,\n",
    "                                            metric_colname='channel_{}'.format(PROJECT_METRIC),\n",
    "                                            time_colname='finished')\n",
    "\n",
    "project_progress(progress_df, width=600, heights=[50, 300])"
   ]
  },
  {
   "cell_type": "markdown",
   "metadata": {},
   "source": [
    "# Experiments by person"
   ]
  },
  {
   "cell_type": "code",
   "execution_count": 6,
   "metadata": {},
   "outputs": [
    {
     "data": {
      "text/html": [
       "<div>\n",
       "<style scoped>\n",
       "    .dataframe tbody tr th:only-of-type {\n",
       "        vertical-align: middle;\n",
       "    }\n",
       "\n",
       "    .dataframe tbody tr th {\n",
       "        vertical-align: top;\n",
       "    }\n",
       "\n",
       "    .dataframe thead th {\n",
       "        text-align: right;\n",
       "    }\n",
       "</style>\n",
       "<table border=\"1\" class=\"dataframe\">\n",
       "  <thead>\n",
       "    <tr style=\"text-align: right;\">\n",
       "      <th></th>\n",
       "      <th>owner</th>\n",
       "      <th>finished</th>\n",
       "      <th>running_time</th>\n",
       "      <th>valid_auc</th>\n",
       "      <th>running_time_hours</th>\n",
       "    </tr>\n",
       "  </thead>\n",
       "  <tbody>\n",
       "    <tr>\n",
       "      <th>0</th>\n",
       "      <td>jakub-czakon</td>\n",
       "      <td>18</td>\n",
       "      <td>9431</td>\n",
       "      <td>0.775489</td>\n",
       "      <td>2.619722</td>\n",
       "    </tr>\n",
       "    <tr>\n",
       "      <th>1</th>\n",
       "      <td>kamil</td>\n",
       "      <td>4</td>\n",
       "      <td>136</td>\n",
       "      <td>0.773536</td>\n",
       "      <td>0.037778</td>\n",
       "    </tr>\n",
       "  </tbody>\n",
       "</table>\n",
       "</div>"
      ],
      "text/plain": [
       "          owner  finished  running_time  valid_auc  running_time_hours\n",
       "0  jakub-czakon        18          9431   0.775489            2.619722\n",
       "1         kamil         4           136   0.773536            0.037778"
      ]
     },
     "execution_count": 6,
     "metadata": {},
     "output_type": "execute_result"
    }
   ],
   "source": [
    "leadearboard[PROJECT_METRIC] = leadearboard['channel_{}'.format(PROJECT_METRIC)].astype(float)\n",
    "person_stats = leadearboard.groupby('owner')['finished','running_time',PROJECT_METRIC].\\\n",
    "agg({'finished':'count','running_time':'sum',PROJECT_METRIC:'max'}).reset_index()\n",
    "person_stats['running_time_hours'] = person_stats['running_time']/3600\n",
    "person_stats"
   ]
  },
  {
   "cell_type": "code",
   "execution_count": null,
   "metadata": {},
   "outputs": [],
   "source": []
  }
 ],
 "metadata": {
  "kernelspec": {
   "display_name": "py_36",
   "language": "python",
   "name": "py_36"
  },
  "language_info": {
   "codemirror_mode": {
    "name": "ipython",
    "version": 3
   },
   "file_extension": ".py",
   "mimetype": "text/x-python",
   "name": "python",
   "nbconvert_exporter": "python",
   "pygments_lexer": "ipython3",
   "version": "3.6.8"
  },
  "neptune": {
   "notebookId": "f6c5d40b-e1c2-4f8b-875f-ed7c74555fd6"
  }
 },
 "nbformat": 4,
 "nbformat_minor": 2
}
